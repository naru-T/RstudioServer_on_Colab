{
  "nbformat": 4,
  "nbformat_minor": 0,
  "metadata": {
    "colab": {
      "name": "Rstudio-server.ipynb",
      "provenance": [],
      "collapsed_sections": [],
      "include_colab_link": true
    },
    "kernelspec": {
      "name": "python3",
      "display_name": "Python 3"
    }
  },
  "cells": [
    {
      "cell_type": "markdown",
      "metadata": {
        "id": "view-in-github",
        "colab_type": "text"
      },
      "source": [
        "<a href=\"https://colab.research.google.com/github/naru-T/RstudioServer_on_Colab/blob/master/Rstudio_server.ipynb\" target=\"_parent\"><img src=\"https://colab.research.google.com/assets/colab-badge.svg\" alt=\"Open In Colab\"/></a>"
      ]
    },
    {
      "cell_type": "code",
      "metadata": {
        "id": "dkiKFfvQGKIp",
        "colab": {
          "base_uri": "https://localhost:8080/"
        },
        "outputId": "049fda22-8e3d-4e57-e648-42dac973391f"
      },
      "source": [
        "from getpass import getpass\n",
        "\n",
        "# Don't forget create your account of ngrok and get token from https://dashboard.ngrok.com/auth/your-authtoken\n",
        "authtoken = getpass(\"Input your Auth token\")"
      ],
      "execution_count": 1,
      "outputs": [
        {
          "output_type": "stream",
          "text": [
            "Input your Auth token··········\n"
          ],
          "name": "stdout"
        }
      ]
    },
    {
      "cell_type": "code",
      "metadata": {
        "id": "QWMe4_3MoLum",
        "colab": {
          "base_uri": "https://localhost:8080/"
        },
        "outputId": "d7e87d4a-6d3f-4107-dcea-921808d15d6e"
      },
      "source": [
        "!adduser rstudio"
      ],
      "execution_count": 2,
      "outputs": [
        {
          "output_type": "stream",
          "text": [
            "Adding user `rstudio' ...\n",
            "Adding new group `rstudio' (1000) ...\n",
            "Adding new user `rstudio' (1000) with group `rstudio' ...\n",
            "Creating home directory `/home/rstudio' ...\n",
            "Copying files from `/etc/skel' ...\n",
            "Enter new UNIX password: \n",
            "Retype new UNIX password: \n",
            "No password supplied\n",
            "Enter new UNIX password: \n",
            "Retype new UNIX password: \n",
            "No password supplied\n",
            "Enter new UNIX password: \n",
            "Retype new UNIX password: \n",
            "passwd: password updated successfully\n",
            "Changing the user information for rstudio\n",
            "Enter the new value, or press ENTER for the default\n",
            "\tFull Name []: \n",
            "\tRoom Number []: \n",
            "\tWork Phone []: \n",
            "\tHome Phone []: \n",
            "\tOther []: \n",
            "Is the information correct? [Y/n] y\n"
          ],
          "name": "stdout"
        }
      ]
    },
    {
      "cell_type": "code",
      "metadata": {
        "id": "muXsa6ps13ZB",
        "colab": {
          "base_uri": "https://localhost:8080/"
        },
        "outputId": "3340a8ba-9e89-4916-8e9b-de6bf0ffe179"
      },
      "source": [
        "!apt-get install --yes git ssh python3-venv\n",
        "\n",
        "!apt-get install gdal-bin python-gdal python3-gdal libgdal-dev libproj-dev proj-data proj-bin libgeos-dev libudunits2-dev libv8-dev libxml2-dev"
      ],
      "execution_count": 9,
      "outputs": [
        {
          "output_type": "stream",
          "text": [
            "Reading package lists... Done\n",
            "Building dependency tree       \n",
            "Reading state information... Done\n",
            "git is already the newest version (1:2.17.1-1ubuntu0.7).\n",
            "ssh is already the newest version (1:7.6p1-4ubuntu0.3).\n",
            "python3-venv is already the newest version (3.6.7-1~18.04).\n",
            "0 upgraded, 0 newly installed, 0 to remove and 14 not upgraded.\n",
            "Reading package lists... Done\n",
            "Building dependency tree       \n",
            "Reading state information... Done\n",
            "gdal-bin is already the newest version (2.2.3+dfsg-2).\n",
            "libgeos-dev is already the newest version (3.6.2-1build2).\n",
            "libproj-dev is already the newest version (4.9.3-2).\n",
            "libudunits2-dev is already the newest version (2.2.26-1).\n",
            "libv8-dev is already the newest version (3.14.5.8-11ubuntu1).\n",
            "proj-bin is already the newest version (4.9.3-2).\n",
            "proj-data is already the newest version (4.9.3-2).\n",
            "python-gdal is already the newest version (2.2.3+dfsg-2).\n",
            "python3-gdal is already the newest version (2.2.3+dfsg-2).\n",
            "libxml2-dev is already the newest version (2.9.4+dfsg1-6.1ubuntu1.3).\n",
            "The following additional packages will be installed:\n",
            "  default-libmysqlclient-dev libarmadillo-dev libarpack2-dev libblas-dev\n",
            "  libblas3 libdap-dev libdapserver7v5 libepsilon-dev libfreexl-dev libfyba-dev\n",
            "  libgeotiff-dev libgif-dev libhdf4-alt-dev libjson-c-dev libkml-dev\n",
            "  libkmlconvenience1 libkmlregionator1 libkmlxsd1 libminizip-dev\n",
            "  libmysqlclient-dev libnetcdf-dev libogdi3.2-dev libopenjp2-7-dev\n",
            "  libpoppler-dev libpoppler-private-dev libpq-dev libqhull-dev libqhull-r7\n",
            "  libspatialite-dev libsqlite3-dev libsuperlu-dev liburiparser-dev libwebp-dev\n",
            "  libxerces-c-dev unixodbc-dev\n",
            "Suggested packages:\n",
            "  libitpp-dev liblapack-doc libgdal-doc libgeotiff-epsg netcdf-bin netcdf-doc\n",
            "  postgresql-doc-10 sqlite3-doc libsuperlu-doc libxerces-c-doc\n",
            "The following NEW packages will be installed:\n",
            "  default-libmysqlclient-dev libarmadillo-dev libarpack2-dev libblas-dev\n",
            "  libblas3 libdap-dev libdapserver7v5 libepsilon-dev libfreexl-dev libfyba-dev\n",
            "  libgdal-dev libgeotiff-dev libgif-dev libhdf4-alt-dev libjson-c-dev\n",
            "  libkml-dev libkmlconvenience1 libkmlregionator1 libkmlxsd1 libminizip-dev\n",
            "  libmysqlclient-dev libnetcdf-dev libogdi3.2-dev libopenjp2-7-dev\n",
            "  libpoppler-dev libpoppler-private-dev libpq-dev libqhull-dev libqhull-r7\n",
            "  libspatialite-dev libsqlite3-dev libsuperlu-dev liburiparser-dev libwebp-dev\n",
            "  libxerces-c-dev unixodbc-dev\n",
            "0 upgraded, 36 newly installed, 0 to remove and 14 not upgraded.\n",
            "Need to get 16.0 MB of archives.\n",
            "After this operation, 108 MB of additional disk space will be used.\n",
            "Get:1 http://archive.ubuntu.com/ubuntu bionic-updates/main amd64 libmysqlclient-dev amd64 5.7.32-0ubuntu0.18.04.1 [988 kB]\n",
            "Get:2 http://archive.ubuntu.com/ubuntu bionic/main amd64 default-libmysqlclient-dev amd64 1.0.4 [3,736 B]\n",
            "Get:3 http://archive.ubuntu.com/ubuntu bionic/main amd64 libblas3 amd64 3.7.1-4ubuntu1 [140 kB]\n",
            "Get:4 http://archive.ubuntu.com/ubuntu bionic/main amd64 libblas-dev amd64 3.7.1-4ubuntu1 [143 kB]\n",
            "Get:5 http://archive.ubuntu.com/ubuntu bionic/universe amd64 libarpack2-dev amd64 3.5.0+real-2 [97.3 kB]\n",
            "Get:6 http://archive.ubuntu.com/ubuntu bionic/universe amd64 libsuperlu-dev amd64 5.2.1+dfsg1-3 [16.3 kB]\n",
            "Get:7 http://archive.ubuntu.com/ubuntu bionic/universe amd64 libarmadillo-dev amd64 1:8.400.0+dfsg-2 [340 kB]\n",
            "Get:8 http://archive.ubuntu.com/ubuntu bionic/universe amd64 libdapserver7v5 amd64 3.19.1-2build1 [22.2 kB]\n",
            "Get:9 http://archive.ubuntu.com/ubuntu bionic/universe amd64 libdap-dev amd64 3.19.1-2build1 [710 kB]\n",
            "Get:10 http://archive.ubuntu.com/ubuntu bionic/universe amd64 libfyba-dev amd64 4.1.1-3 [436 kB]\n",
            "Get:11 http://archive.ubuntu.com/ubuntu bionic-updates/main amd64 libgif-dev amd64 5.1.4-2ubuntu0.1 [20.6 kB]\n",
            "Get:12 http://archive.ubuntu.com/ubuntu bionic/universe amd64 libkmlconvenience1 amd64 1.3.0-5 [43.1 kB]\n",
            "Get:13 http://archive.ubuntu.com/ubuntu bionic/universe amd64 libkmlregionator1 amd64 1.3.0-5 [19.0 kB]\n",
            "Get:14 http://archive.ubuntu.com/ubuntu bionic/universe amd64 libkmlxsd1 amd64 1.3.0-5 [29.5 kB]\n",
            "Get:15 http://archive.ubuntu.com/ubuntu bionic/universe amd64 libminizip-dev amd64 1.1-8build1 [26.7 kB]\n",
            "Get:16 http://archive.ubuntu.com/ubuntu bionic/universe amd64 libnetcdf-dev amd64 1:4.6.0-2build1 [37.6 kB]\n",
            "Get:17 http://archive.ubuntu.com/ubuntu bionic-updates/main amd64 libpoppler-dev amd64 0.62.0-2ubuntu2.10 [4,608 B]\n",
            "Get:18 http://archive.ubuntu.com/ubuntu bionic-updates/main amd64 libpoppler-private-dev amd64 0.62.0-2ubuntu2.10 [169 kB]\n",
            "Ign:19 http://archive.ubuntu.com/ubuntu bionic-updates/main amd64 libpq-dev amd64 10.14-0ubuntu0.18.04.1\n",
            "Get:20 http://archive.ubuntu.com/ubuntu bionic/universe amd64 libqhull-r7 amd64 2015.2-4 [149 kB]\n",
            "Get:21 http://archive.ubuntu.com/ubuntu bionic/universe amd64 libqhull-dev amd64 2015.2-4 [357 kB]\n",
            "Get:22 http://archive.ubuntu.com/ubuntu bionic-updates/main amd64 libsqlite3-dev amd64 3.22.0-1ubuntu0.4 [633 kB]\n",
            "Get:23 http://archive.ubuntu.com/ubuntu bionic/universe amd64 liburiparser-dev amd64 0.8.4-1 [10.0 kB]\n",
            "Get:24 http://archive.ubuntu.com/ubuntu bionic/universe amd64 libxerces-c-dev amd64 3.2.0+debian-2 [1,627 kB]\n",
            "Err:19 http://security.ubuntu.com/ubuntu bionic-updates/main amd64 libpq-dev amd64 10.14-0ubuntu0.18.04.1\n",
            "  404  Not Found [IP: 91.189.88.152 80]\n",
            "Get:25 http://archive.ubuntu.com/ubuntu bionic/universe amd64 libepsilon-dev amd64 0.9.2+dfsg-2 [49.3 kB]\n",
            "Get:26 http://archive.ubuntu.com/ubuntu bionic/universe amd64 libfreexl-dev amd64 1.0.5-1 [30.9 kB]\n",
            "Get:27 http://archive.ubuntu.com/ubuntu bionic/universe amd64 libgeotiff-dev amd64 1.4.2-2build1 [82.6 kB]\n",
            "Get:28 http://archive.ubuntu.com/ubuntu bionic/universe amd64 libhdf4-alt-dev amd64 4.2.13-2 [368 kB]\n",
            "Get:29 http://archive.ubuntu.com/ubuntu bionic-updates/main amd64 libjson-c-dev amd64 0.12.1-1.3ubuntu0.3 [31.9 kB]\n",
            "Get:30 http://archive.ubuntu.com/ubuntu bionic/universe amd64 libkml-dev amd64 1.3.0-5 [933 kB]\n",
            "Get:31 http://archive.ubuntu.com/ubuntu bionic/universe amd64 libogdi3.2-dev amd64 3.2.0+ds-2 [23.6 kB]\n",
            "Get:32 http://archive.ubuntu.com/ubuntu bionic-updates/universe amd64 libopenjp2-7-dev amd64 2.3.0-2build0.18.04.1 [26.6 kB]\n",
            "Get:33 http://archive.ubuntu.com/ubuntu bionic/universe amd64 libspatialite-dev amd64 4.3.0a-5build1 [1,323 kB]\n",
            "Get:34 http://archive.ubuntu.com/ubuntu bionic/main amd64 libwebp-dev amd64 0.6.1-2 [267 kB]\n",
            "Get:35 http://archive.ubuntu.com/ubuntu bionic/main amd64 unixodbc-dev amd64 2.3.4-1.1ubuntu3 [217 kB]\n",
            "Get:36 http://archive.ubuntu.com/ubuntu bionic/universe amd64 libgdal-dev amd64 2.2.3+dfsg-2 [6,369 kB]\n",
            "Fetched 15.7 MB in 7s (2,105 kB/s)\n",
            "E: Failed to fetch http://security.ubuntu.com/ubuntu/pool/main/p/postgresql-10/libpq-dev_10.14-0ubuntu0.18.04.1_amd64.deb  404  Not Found [IP: 91.189.88.152 80]\n",
            "E: Unable to fetch some archives, maybe run apt-get update or try with --fix-missing?\n"
          ],
          "name": "stdout"
        }
      ]
    },
    {
      "cell_type": "code",
      "metadata": {
        "id": "LuQjovjxFPLC"
      },
      "source": [
        "# Download ngrok\n",
        "! wget -q -c -nc https://bin.equinox.io/c/4VmDzA7iaHb/ngrok-stable-linux-amd64.zip\n",
        "! unzip -qq -n ngrok-stable-linux-amd64.zip\n"
      ],
      "execution_count": 4,
      "outputs": []
    },
    {
      "cell_type": "code",
      "metadata": {
        "id": "c-nYN4ZBa2wI",
        "colab": {
          "base_uri": "https://localhost:8080/"
        },
        "outputId": "38998ef5-3aef-41a6-c532-e97e5cc18885"
      },
      "source": [
        "# Download and install rstudio server\n",
        "!apt-get install gdebi-core\n",
        "!wget https://download2.rstudio.org/server/bionic/amd64/rstudio-server-1.3.1056-amd64.deb\n",
        "!gdebi rstudio-server-1.3.1056-amd64.deb"
      ],
      "execution_count": 5,
      "outputs": [
        {
          "output_type": "stream",
          "text": [
            "Reading package lists... Done\n",
            "Building dependency tree       \n",
            "Reading state information... Done\n",
            "The following additional packages will be installed:\n",
            "  file libmagic-mgc libmagic1 python3-debian\n",
            "The following NEW packages will be installed:\n",
            "  file gdebi-core libmagic-mgc libmagic1 python3-debian\n",
            "0 upgraded, 5 newly installed, 0 to remove and 14 not upgraded.\n",
            "Need to get 456 kB of archives.\n",
            "After this operation, 6,438 kB of additional disk space will be used.\n",
            "Get:1 http://archive.ubuntu.com/ubuntu bionic-updates/main amd64 libmagic-mgc amd64 1:5.32-2ubuntu0.4 [184 kB]\n",
            "Get:2 http://archive.ubuntu.com/ubuntu bionic-updates/main amd64 libmagic1 amd64 1:5.32-2ubuntu0.4 [68.6 kB]\n",
            "Get:3 http://archive.ubuntu.com/ubuntu bionic-updates/main amd64 file amd64 1:5.32-2ubuntu0.4 [22.1 kB]\n",
            "Get:4 http://archive.ubuntu.com/ubuntu bionic/main amd64 python3-debian all 0.1.32 [65.4 kB]\n",
            "Get:5 http://archive.ubuntu.com/ubuntu bionic/universe amd64 gdebi-core all 0.9.5.7+nmu2 [116 kB]\n",
            "Fetched 456 kB in 3s (154 kB/s)\n",
            "Selecting previously unselected package libmagic-mgc.\n",
            "(Reading database ... 147950 files and directories currently installed.)\n",
            "Preparing to unpack .../libmagic-mgc_1%3a5.32-2ubuntu0.4_amd64.deb ...\n",
            "Unpacking libmagic-mgc (1:5.32-2ubuntu0.4) ...\n",
            "Selecting previously unselected package libmagic1:amd64.\n",
            "Preparing to unpack .../libmagic1_1%3a5.32-2ubuntu0.4_amd64.deb ...\n",
            "Unpacking libmagic1:amd64 (1:5.32-2ubuntu0.4) ...\n",
            "Selecting previously unselected package file.\n",
            "Preparing to unpack .../file_1%3a5.32-2ubuntu0.4_amd64.deb ...\n",
            "Unpacking file (1:5.32-2ubuntu0.4) ...\n",
            "Selecting previously unselected package python3-debian.\n",
            "Preparing to unpack .../python3-debian_0.1.32_all.deb ...\n",
            "Unpacking python3-debian (0.1.32) ...\n",
            "Selecting previously unselected package gdebi-core.\n",
            "Preparing to unpack .../gdebi-core_0.9.5.7+nmu2_all.deb ...\n",
            "Unpacking gdebi-core (0.9.5.7+nmu2) ...\n",
            "Setting up libmagic-mgc (1:5.32-2ubuntu0.4) ...\n",
            "Setting up libmagic1:amd64 (1:5.32-2ubuntu0.4) ...\n",
            "Setting up python3-debian (0.1.32) ...\n",
            "Setting up file (1:5.32-2ubuntu0.4) ...\n",
            "Setting up gdebi-core (0.9.5.7+nmu2) ...\n",
            "Processing triggers for man-db (2.8.3-2ubuntu0.1) ...\n",
            "Processing triggers for libc-bin (2.27-3ubuntu1.2) ...\n",
            "/sbin/ldconfig.real: /usr/local/lib/python3.6/dist-packages/ideep4py/lib/libmkldnn.so.0 is not a symbolic link\n",
            "\n",
            "--2020-11-25 14:43:56--  https://download2.rstudio.org/server/bionic/amd64/rstudio-server-1.3.1056-amd64.deb\n",
            "Resolving download2.rstudio.org (download2.rstudio.org)... 13.225.97.109, 13.225.97.111, 13.225.97.113, ...\n",
            "Connecting to download2.rstudio.org (download2.rstudio.org)|13.225.97.109|:443... connected.\n",
            "HTTP request sent, awaiting response... 200 OK\n",
            "Length: 66493018 (63M) [application/x-deb]\n",
            "Saving to: ‘rstudio-server-1.3.1056-amd64.deb’\n",
            "\n",
            "rstudio-server-1.3. 100%[===================>]  63.41M  10.4MB/s    in 7.6s    \n",
            "\n",
            "2020-11-25 14:44:05 (8.35 MB/s) - ‘rstudio-server-1.3.1056-amd64.deb’ saved [66493018/66493018]\n",
            "\n",
            "Reading package lists... Done\n",
            "Building dependency tree        \n",
            "Reading state information... Done\n",
            "Reading state information... Done\n",
            "Requires the installation of the following packages: libclang-6.0-dev libclang-dev \n",
            "\n",
            "RStudio Server\n",
            " RStudio is a set of integrated tools designed to help you be more productive with R. It includes a console, syntax-highlighting editor that supports direct code execution, as well as tools for plotting, history, and workspace management.\n",
            "Do you want to install the software package? [y/N]:y\n",
            "Get:1 http://archive.ubuntu.com/ubuntu bionic/universe amd64 libclang-6.0-dev amd64 1:6.0-1ubuntu2 [20.4 MB]\n",
            "Get:2 http://archive.ubuntu.com/ubuntu bionic-updates/universe amd64 libclang-dev amd64 1:6.0-41~exp5~ubuntu1 [2812 B]\n",
            "Fetched 20.4 MB in 6s (3000 kB/s)\n",
            "Selecting previously unselected package libclang-6.0-dev.\n",
            "(Reading database ... 148112 files and directories currently installed.)\n",
            "Preparing to unpack .../libclang-6.0-dev_1%3a6.0-1ubuntu2_amd64.deb ...\n",
            "Unpacking libclang-6.0-dev (1:6.0-1ubuntu2) ...\n",
            "Selecting previously unselected package libclang-dev.\n",
            "Preparing to unpack .../libclang-dev_1%3a6.0-41~exp5~ubuntu1_amd64.deb ...\n",
            "Unpacking libclang-dev (1:6.0-41~exp5~ubuntu1) ...\n",
            "Setting up libclang-6.0-dev (1:6.0-1ubuntu2) ...\n",
            "Setting up libclang-dev (1:6.0-41~exp5~ubuntu1) ...\n",
            "Selecting previously unselected package rstudio-server.\n",
            "(Reading database ... 148745 files and directories currently installed.)\n",
            "Preparing to unpack rstudio-server-1.3.1056-amd64.deb ...\n",
            "Unpacking rstudio-server (1.3.1056) ...\n",
            "Setting up rstudio-server (1.3.1056) ...\n"
          ],
          "name": "stdout"
        }
      ]
    },
    {
      "cell_type": "code",
      "metadata": {
        "id": "oJroDOLz75B7",
        "colab": {
          "base_uri": "https://localhost:8080/"
        },
        "outputId": "fe4c3ca3-7b02-4046-fdda-3736009d4b02"
      },
      "source": [
        "# Run ngrok\n",
        "get_ipython().system_raw('./ngrok authtoken $authtoken && ./ngrok http 8787 &')\n",
        "! sleep 3\n",
        "\n",
        "# Get the address for code-server\n",
        "import requests\n",
        "from re import sub\n",
        "r = requests.get('http://localhost:4040/api/tunnels')\n",
        "#print(r)\n",
        "str_ssh = r.json()['tunnels'][0]['public_url']\n",
        "print(str_ssh)\n"
      ],
      "execution_count": 6,
      "outputs": [
        {
          "output_type": "stream",
          "text": [
            "https://87de4efac95e.ngrok.io\n"
          ],
          "name": "stdout"
        }
      ]
    },
    {
      "cell_type": "code",
      "metadata": {
        "id": "prmunqZU2-2o"
      },
      "source": [
        ""
      ],
      "execution_count": null,
      "outputs": []
    }
  ]
}