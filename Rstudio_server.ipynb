{
  "nbformat": 4,
  "nbformat_minor": 0,
  "metadata": {
    "colab": {
      "name": "Rstudio-server.ipynb",
      "provenance": [],
      "collapsed_sections": [],
      "include_colab_link": true
    },
    "kernelspec": {
      "name": "python3",
      "display_name": "Python 3"
    }
  },
  "cells": [
    {
      "cell_type": "markdown",
      "metadata": {
        "id": "view-in-github",
        "colab_type": "text"
      },
      "source": [
        "<a href=\"https://colab.research.google.com/github/naru-T/RstudioServer_on_Colab/blob/master/Rstudio_server.ipynb\" target=\"_parent\"><img src=\"https://colab.research.google.com/assets/colab-badge.svg\" alt=\"Open In Colab\"/></a>"
      ]
    },
    {
      "cell_type": "markdown",
      "metadata": {
        "id": "2ta2rJt-4-b9"
      },
      "source": [
        "# This notebook runs Rstudio server on Colab environment."
      ]
    },
    {
      "cell_type": "markdown",
      "metadata": {
        "id": "ZAA1Atzf5ICI"
      },
      "source": [
        "## prerequisite\n",
        "[ngrok](https://ngrok.com/)  token is required.\n",
        "\n",
        "## Note\n",
        "The rstudio server does not accept the root user.  \n",
        "To access google drive, the \"googledrive\" package should be installed.  \n"
      ]
    },
    {
      "cell_type": "markdown",
      "metadata": {
        "id": "MjjDcj1b42cB"
      },
      "source": [
        "# 1. get authorization token of ngrok"
      ]
    },
    {
      "cell_type": "code",
      "metadata": {
        "id": "dkiKFfvQGKIp"
      },
      "source": [
        "from getpass import getpass\n",
        "\n",
        "# Don't forget create your account of ngrok and get token from https://dashboard.ngrok.com/auth/your-authtoken\n",
        "authtoken = getpass(\"Input your Auth token\")"
      ],
      "execution_count": null,
      "outputs": []
    },
    {
      "cell_type": "markdown",
      "metadata": {
        "id": "PXolRGXz6XXk"
      },
      "source": [
        "# 2. Add \"rstudio\" user"
      ]
    },
    {
      "cell_type": "code",
      "metadata": {
        "id": "QWMe4_3MoLum"
      },
      "source": [
        "!adduser rstudio"
      ],
      "execution_count": null,
      "outputs": []
    },
    {
      "cell_type": "markdown",
      "metadata": {
        "id": "qsg5RdRE6cj9"
      },
      "source": [
        "# 3. Install prerequisite softwares"
      ]
    },
    {
      "cell_type": "markdown",
      "metadata": {
        "id": "ZVnm3a7X64Pv"
      },
      "source": [
        "geospatial softwares"
      ]
    },
    {
      "cell_type": "code",
      "metadata": {
        "id": "muXsa6ps13ZB"
      },
      "source": [
        "!apt-get update\n",
        "!apt-get install --yes git ssh python3-venv\n",
        "!apt-get install gdal-bin python-gdal python3-gdal libgdal-dev libproj-dev proj-data proj-bin libgeos-dev libudunits2-dev libv8-dev libprotobuf-dev libxml2 libjq-dev\n",
        "!apt-get install qgis saga"
      ],
      "execution_count": null,
      "outputs": []
    },
    {
      "cell_type": "markdown",
      "metadata": {
        "id": "okooqvxw679D"
      },
      "source": [
        "ngrok"
      ]
    },
    {
      "cell_type": "code",
      "metadata": {
        "id": "LuQjovjxFPLC"
      },
      "source": [
        "# Download ngrok\n",
        "! wget -q -c -nc https://bin.equinox.io/c/4VmDzA7iaHb/ngrok-stable-linux-amd64.zip\n",
        "! unzip -qq -n ngrok-stable-linux-amd64.zip\n"
      ],
      "execution_count": null,
      "outputs": []
    },
    {
      "cell_type": "markdown",
      "metadata": {
        "id": "CheaQFqu6_cU"
      },
      "source": [
        "rstudio server"
      ]
    },
    {
      "cell_type": "code",
      "metadata": {
        "id": "c-nYN4ZBa2wI"
      },
      "source": [
        "!apt-get install gdebi-core\n",
        "!wget https://download2.rstudio.org/server/bionic/amd64/rstudio-server-1.3.1056-amd64.deb\n",
        "!gdebi -n rstudio-server-1.3.1056-amd64.deb"
      ],
      "execution_count": null,
      "outputs": []
    },
    {
      "cell_type": "markdown",
      "metadata": {
        "id": "_ZuCwrTi6jZU"
      },
      "source": [
        "# 4. Launch Rstudio server via ngrok"
      ]
    },
    {
      "cell_type": "code",
      "metadata": {
        "id": "oJroDOLz75B7"
      },
      "source": [
        "# Run ngrok\n",
        "get_ipython().system_raw('./ngrok authtoken $authtoken && ./ngrok http 8787 &')\n",
        "! sleep 3\n",
        "\n",
        "# Get the address for Rstudio-server\n",
        "import requests\n",
        "from re import sub\n",
        "r = requests.get('http://localhost:4040/api/tunnels')\n",
        "\n",
        "str_ssh = r.json()['tunnels'][0]['public_url']\n",
        "print(str_ssh)\n"
      ],
      "execution_count": null,
      "outputs": []
    }
  ]
}