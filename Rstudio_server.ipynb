{
  "nbformat": 4,
  "nbformat_minor": 0,
  "metadata": {
    "colab": {
      "name": "Rstudio-server.ipynb",
      "provenance": [],
      "collapsed_sections": [],
      "include_colab_link": true
    },
    "kernelspec": {
      "name": "python3",
      "display_name": "Python 3"
    }
  },
  "cells": [
    {
      "cell_type": "markdown",
      "metadata": {
        "id": "view-in-github",
        "colab_type": "text"
      },
      "source": [
        "<a href=\"https://colab.research.google.com/github/naru-T/RstudioServer_on_Colab/blob/master/Rstudio_server.ipynb\" target=\"_parent\"><img src=\"https://colab.research.google.com/assets/colab-badge.svg\" alt=\"Open In Colab\"/></a>"
      ]
    },
    {
      "cell_type": "code",
      "metadata": {
        "id": "dkiKFfvQGKIp",
        "colab_type": "code",
        "colab": {
          "base_uri": "https://localhost:8080/",
          "height": 34
        },
        "outputId": "8df94e0d-7fce-4fa9-8c2f-8d2ae12a94b3"
      },
      "source": [
        "from getpass import getpass\n",
        "\n",
        "# Don't forget create your account of ngrok and get token from https://dashboard.ngrok.com/auth/your-authtoken\n",
        "authtoken = getpass(\"Input your Auth token\")"
      ],
      "execution_count": null,
      "outputs": [
        {
          "output_type": "stream",
          "text": [
            "Input your Auth token··········\n"
          ],
          "name": "stdout"
        }
      ]
    },
    {
      "cell_type": "code",
      "metadata": {
        "id": "QWMe4_3MoLum",
        "colab_type": "code",
        "colab": {}
      },
      "source": [
        "!adduser rstudio"
      ],
      "execution_count": null,
      "outputs": []
    },
    {
      "cell_type": "code",
      "metadata": {
        "id": "muXsa6ps13ZB",
        "colab_type": "code",
        "colab": {}
      },
      "source": [
        "!apt-get install --yes git ssh python3-venv\n",
        "\n",
        "!apt-get install gdal-bin python-gdal python3-gdal libgdal-dev\n",
        "!apt-get install libproj-dev proj-data proj-bin\n",
        "!apt-get install libgeos-dev\n",
        "!apt-get install libudunits2-dev libv8-dev libxml2-dev"
      ],
      "execution_count": null,
      "outputs": []
    },
    {
      "cell_type": "code",
      "metadata": {
        "id": "LuQjovjxFPLC",
        "colab_type": "code",
        "colab": {}
      },
      "source": [
        "# Download ngrok\n",
        "! wget -q -c -nc https://bin.equinox.io/c/4VmDzA7iaHb/ngrok-stable-linux-amd64.zip\n",
        "! unzip -qq -n ngrok-stable-linux-amd64.zip\n"
      ],
      "execution_count": null,
      "outputs": []
    },
    {
      "cell_type": "code",
      "metadata": {
        "id": "c-nYN4ZBa2wI",
        "colab_type": "code",
        "colab": {}
      },
      "source": [
        "# Download and install rstudio server\n",
        "!apt-get install gdebi-core\n",
        "!wget https://download2.rstudio.org/server/bionic/amd64/rstudio-server-1.3.1056-amd64.deb\n",
        "!gdebi rstudio-server-1.3.1056-amd64.deb"
      ],
      "execution_count": null,
      "outputs": []
    },
    {
      "cell_type": "code",
      "metadata": {
        "id": "oJroDOLz75B7",
        "colab_type": "code",
        "colab": {}
      },
      "source": [
        "# Run ngrok\n",
        "get_ipython().system_raw('./ngrok authtoken $authtoken && ./ngrok http 8787 &')\n",
        "! sleep 3\n",
        "\n",
        "# Get the address for code-server\n",
        "import requests\n",
        "from re import sub\n",
        "r = requests.get('http://localhost:4040/api/tunnels')\n",
        "#print(r)\n",
        "str_ssh = r.json()['tunnels'][0]['public_url']\n",
        "print(str_ssh)\n"
      ],
      "execution_count": null,
      "outputs": []
    }
  ]
}