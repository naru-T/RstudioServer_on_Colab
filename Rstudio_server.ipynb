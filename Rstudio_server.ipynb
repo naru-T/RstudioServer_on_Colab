{
  "nbformat": 4,
  "nbformat_minor": 0,
  "metadata": {
    "colab": {
      "name": "Rstudio-server.ipynb",
      "provenance": [],
      "toc_visible": true,
      "include_colab_link": true
    },
    "kernelspec": {
      "name": "python3",
      "display_name": "Python 3"
    },
    "gpuClass": "standard"
  },
  "cells": [
    {
      "cell_type": "markdown",
      "metadata": {
        "id": "view-in-github",
        "colab_type": "text"
      },
      "source": [
        "<a href=\"https://colab.research.google.com/github/naru-T/RstudioServer_on_Colab/blob/master/Rstudio_server.ipynb\" target=\"_parent\"><img src=\"https://colab.research.google.com/assets/colab-badge.svg\" alt=\"Open In Colab\"/></a>"
      ]
    },
    {
      "cell_type": "markdown",
      "metadata": {
        "id": "2ta2rJt-4-b9"
      },
      "source": [
        "# This notebook runs Rstudio server on Colab environment."
      ]
    },
    {
      "cell_type": "markdown",
      "metadata": {
        "id": "ZAA1Atzf5ICI"
      },
      "source": [
        "## Note\n",
        "The rstudio server does not accept the root user.  \n",
        "To access google drive, the \"googledrive\" package should be installed.  \n"
      ]
    },
    {
      "cell_type": "markdown",
      "metadata": {
        "id": "PXolRGXz6XXk"
      },
      "source": [
        "# 1. Add \"rstudio\" user"
      ]
    },
    {
      "cell_type": "markdown",
      "source": [
        "Define your password for this rstudio user."
      ],
      "metadata": {
        "id": "ZJF2LcqRi55k"
      }
    },
    {
      "cell_type": "code",
      "metadata": {
        "id": "QWMe4_3MoLum",
        "outputId": "73991c28-dc3f-4b62-f31f-5bc52eb619b7",
        "colab": {
          "base_uri": "https://localhost:8080/"
        }
      },
      "source": [
        "!adduser --gecos \"\" rstudio"
      ],
      "execution_count": 1,
      "outputs": [
        {
          "output_type": "stream",
          "name": "stdout",
          "text": [
            "Adding user `rstudio' ...\n",
            "Adding new group `rstudio' (1000) ...\n",
            "Adding new user `rstudio' (1000) with group `rstudio' ...\n",
            "Creating home directory `/home/rstudio' ...\n",
            "Copying files from `/etc/skel' ...\n",
            "New password: \n",
            "Retype new password: \n",
            "passwd: password updated successfully\n"
          ]
        }
      ]
    },
    {
      "cell_type": "markdown",
      "metadata": {
        "id": "qsg5RdRE6cj9"
      },
      "source": [
        "# 2. Install prerequisite softwares"
      ]
    },
    {
      "cell_type": "markdown",
      "metadata": {
        "id": "ZVnm3a7X64Pv"
      },
      "source": [
        "- geospatial softwares"
      ]
    },
    {
      "cell_type": "code",
      "metadata": {
        "id": "muXsa6ps13ZB"
      },
      "source": [
        "%%capture\n",
        "\n",
        "!apt-get update\n",
        "!apt-get install --yes git ssh python3-venv\n",
        "!apt-get install r-base r-base-dev gdal-bin python-gdal python3-gdal libgdal-dev libproj-dev proj-data proj-bin libgeos-dev libudunits2-dev libv8-dev libprotobuf-dev libxml2 libjq-dev\n",
        "!apt-get install qgis saga"
      ],
      "execution_count": 2,
      "outputs": []
    },
    {
      "cell_type": "markdown",
      "metadata": {
        "id": "BvPHbL9EMrs6"
      },
      "source": [
        "- Github CLI"
      ]
    },
    {
      "cell_type": "code",
      "metadata": {
        "id": "8LgZeYoUMhnq"
      },
      "source": [
        "%%capture\n",
        "!apt-key adv --keyserver keyserver.ubuntu.com --recv-key C99B11DEB97541F0\n",
        "!apt-add-repository https://cli.github.com/packages\n",
        "!apt update\n",
        "!apt install gh"
      ],
      "execution_count": 3,
      "outputs": []
    },
    {
      "cell_type": "markdown",
      "metadata": {
        "id": "CheaQFqu6_cU"
      },
      "source": [
        "- rstudio server"
      ]
    },
    {
      "cell_type": "code",
      "metadata": {
        "id": "c-nYN4ZBa2wI"
      },
      "source": [
        "%%capture\n",
        "!apt-get install gdebi-core\n",
        "!wget https://download2.rstudio.org/server/jammy/amd64/rstudio-server-2023.06.1-524-amd64.deb\n",
        "!gdebi -n rstudio-server-2023.06.1-524-amd64.deb"
      ],
      "execution_count": 4,
      "outputs": []
    },
    {
      "cell_type": "markdown",
      "source": [
        "- The ngrok token  \n",
        "\n",
        "ngrok is used to proceed the following step."
      ],
      "metadata": {
        "id": "aGjKOc-1gt0A"
      }
    },
    {
      "cell_type": "code",
      "source": [
        "from getpass import getpass\n",
        "\n",
        "# Don't forget create your account of ngrok and get token from https://dashboard.ngrok.com/auth/your-authtoken\n",
        "authtoken = getpass(\"Input your Auth token\")"
      ],
      "metadata": {
        "id": "t8nLEwirgrV0",
        "outputId": "8215fdf8-ec65-4f52-8e5e-0dc2a2da80b1",
        "colab": {
          "base_uri": "https://localhost:8080/"
        }
      },
      "execution_count": 5,
      "outputs": [
        {
          "name": "stdout",
          "output_type": "stream",
          "text": [
            "Input your Auth token··········\n"
          ]
        }
      ]
    },
    {
      "cell_type": "markdown",
      "metadata": {
        "id": "Nj9PftsFcUkq"
      },
      "source": [
        "- ngrok"
      ]
    },
    {
      "cell_type": "code",
      "metadata": {
        "id": "iAM6ZuYaOJax"
      },
      "source": [
        "! wget -q -c -nc https://bin.equinox.io/c/4VmDzA7iaHb/ngrok-stable-linux-amd64.zip\n",
        "! unzip -qq -n ngrok-stable-linux-amd64.zip"
      ],
      "execution_count": 6,
      "outputs": []
    },
    {
      "cell_type": "markdown",
      "metadata": {
        "id": "_ZuCwrTi6jZU"
      },
      "source": [
        "# 3. Launch Rstudio server with ngrok"
      ]
    },
    {
      "cell_type": "code",
      "metadata": {
        "id": "v-5oJR60P8QG",
        "outputId": "a437adef-9819-4ea8-c53f-c17997e40fc5",
        "colab": {
          "base_uri": "https://localhost:8080/"
        }
      },
      "source": [
        "# Run ngrok\n",
        "get_ipython().system_raw('./ngrok authtoken $authtoken && ./ngrok http 8787 &')\n",
        "! sleep 3\n",
        "\n",
        "# Get the address for Rstudio-server\n",
        "import requests\n",
        "from re import sub\n",
        "r = requests.get('http://localhost:4040/api/tunnels')\n",
        "\n",
        "str_ssh = r.json()['tunnels'][0]['public_url']\n",
        "print(str_ssh)"
      ],
      "execution_count": 7,
      "outputs": [
        {
          "output_type": "stream",
          "name": "stdout",
          "text": [
            "https://2b03-34-86-3-33.ngrok-free.app\n"
          ]
        }
      ]
    },
    {
      "cell_type": "markdown",
      "metadata": {
        "id": "8rKfwKq0dmAP"
      },
      "source": [
        "# 4. Access to the Rstudio server"
      ]
    },
    {
      "cell_type": "markdown",
      "metadata": {
        "id": "-SXG19o3dI_u"
      },
      "source": [
        "The URL is appreared above.\n",
        "\n",
        "use ```rstudio``` username and the password you defined at the first cell."
      ]
    },
    {
      "cell_type": "code",
      "metadata": {
        "id": "Yift7O0VfFOo"
      },
      "source": [
        "#@title Sign in page will be appeared．\n",
        "from IPython.display import Image,display_png\n",
        "display_png(Image('/content/ScreenShot.png'))"
      ],
      "execution_count": null,
      "outputs": []
    }
  ]
}